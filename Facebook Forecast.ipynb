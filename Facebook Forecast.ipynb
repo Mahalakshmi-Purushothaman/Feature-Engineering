{
 "cells": [
  {
   "cell_type": "markdown",
   "id": "a184a6e5-2545-4672-9118-0acb65471a3d",
   "metadata": {},
   "source": [
    "\n",
    "Forecasting Timeseries Data Using Facebook FbProphet"
   ]
  },
  {
   "cell_type": "markdown",
   "id": "8502027c-8613-4f97-833b-02fbb6658f37",
   "metadata": {},
   "source": [
    "Steps Required With FbProphet\n",
    "\n",
    "Introduction And Installation\n",
    "Data Preprocessing With Time Seires\n",
    "Model Fitting\n",
    "Obtaining The Forecasts\n",
    "Plotting The Forecasts\n",
    "Cross Validation\n",
    "Computing Performance Metrics\n",
    "Visualize the Performance MEtrics\n",
    "Conclusions"
   ]
  },
  {
   "cell_type": "code",
   "execution_count": 66,
   "id": "6d89843b-6d7f-4974-aae3-85ff6e93f96a",
   "metadata": {},
   "outputs": [],
   "source": [
    "##!pip install pystan\n",
    "##!pip install prophet\n",
    "\n",
    "import pandas as pd\n",
    "import prophet\n",
    "%matplotlib inline\n",
    "import matplotlib.pyplot as plt"
   ]
  },
  {
   "cell_type": "code",
   "execution_count": 53,
   "id": "cec3a9bc-c8b2-40f0-bb52-e4ba8065a064",
   "metadata": {},
   "outputs": [
    {
     "data": {
      "text/html": [
       "<div>\n",
       "<style scoped>\n",
       "    .dataframe tbody tr th:only-of-type {\n",
       "        vertical-align: middle;\n",
       "    }\n",
       "\n",
       "    .dataframe tbody tr th {\n",
       "        vertical-align: top;\n",
       "    }\n",
       "\n",
       "    .dataframe thead th {\n",
       "        text-align: right;\n",
       "    }\n",
       "</style>\n",
       "<table border=\"1\" class=\"dataframe\">\n",
       "  <thead>\n",
       "    <tr style=\"text-align: right;\">\n",
       "      <th></th>\n",
       "      <th>Month</th>\n",
       "      <th>Monthly milk production: pounds per cow. Jan 62 ? Dec 75</th>\n",
       "    </tr>\n",
       "  </thead>\n",
       "  <tbody>\n",
       "    <tr>\n",
       "      <th>0</th>\n",
       "      <td>1962-01</td>\n",
       "      <td>589.0</td>\n",
       "    </tr>\n",
       "    <tr>\n",
       "      <th>1</th>\n",
       "      <td>1962-02</td>\n",
       "      <td>561.0</td>\n",
       "    </tr>\n",
       "    <tr>\n",
       "      <th>2</th>\n",
       "      <td>1962-03</td>\n",
       "      <td>640.0</td>\n",
       "    </tr>\n",
       "    <tr>\n",
       "      <th>3</th>\n",
       "      <td>1962-04</td>\n",
       "      <td>656.0</td>\n",
       "    </tr>\n",
       "    <tr>\n",
       "      <th>4</th>\n",
       "      <td>1962-05</td>\n",
       "      <td>727.0</td>\n",
       "    </tr>\n",
       "  </tbody>\n",
       "</table>\n",
       "</div>"
      ],
      "text/plain": [
       "     Month  Monthly milk production: pounds per cow. Jan 62 ? Dec 75\n",
       "0  1962-01                                              589.0       \n",
       "1  1962-02                                              561.0       \n",
       "2  1962-03                                              640.0       \n",
       "3  1962-04                                              656.0       \n",
       "4  1962-05                                              727.0       "
      ]
     },
     "execution_count": 53,
     "metadata": {},
     "output_type": "execute_result"
    }
   ],
   "source": [
    "df=pd.read_csv('monthly-milk-production-pounds.csv')\n",
    "df.head()"
   ]
  },
  {
   "cell_type": "code",
   "execution_count": 54,
   "id": "ae8c2d74-5bae-4ca8-a096-072725046742",
   "metadata": {},
   "outputs": [
    {
     "data": {
      "text/html": [
       "<div>\n",
       "<style scoped>\n",
       "    .dataframe tbody tr th:only-of-type {\n",
       "        vertical-align: middle;\n",
       "    }\n",
       "\n",
       "    .dataframe tbody tr th {\n",
       "        vertical-align: top;\n",
       "    }\n",
       "\n",
       "    .dataframe thead th {\n",
       "        text-align: right;\n",
       "    }\n",
       "</style>\n",
       "<table border=\"1\" class=\"dataframe\">\n",
       "  <thead>\n",
       "    <tr style=\"text-align: right;\">\n",
       "      <th></th>\n",
       "      <th>Month</th>\n",
       "      <th>Monthly milk production: pounds per cow. Jan 62 ? Dec 75</th>\n",
       "    </tr>\n",
       "  </thead>\n",
       "  <tbody>\n",
       "    <tr>\n",
       "      <th>164</th>\n",
       "      <td>1975-09</td>\n",
       "      <td>817.0</td>\n",
       "    </tr>\n",
       "    <tr>\n",
       "      <th>165</th>\n",
       "      <td>1975-10</td>\n",
       "      <td>827.0</td>\n",
       "    </tr>\n",
       "    <tr>\n",
       "      <th>166</th>\n",
       "      <td>1975-11</td>\n",
       "      <td>797.0</td>\n",
       "    </tr>\n",
       "    <tr>\n",
       "      <th>167</th>\n",
       "      <td>1975-12</td>\n",
       "      <td>843.0</td>\n",
       "    </tr>\n",
       "    <tr>\n",
       "      <th>168</th>\n",
       "      <td>Monthly milk production: pounds per cow. Jan 6...</td>\n",
       "      <td>NaN</td>\n",
       "    </tr>\n",
       "  </tbody>\n",
       "</table>\n",
       "</div>"
      ],
      "text/plain": [
       "                                                 Month  \\\n",
       "164                                            1975-09   \n",
       "165                                            1975-10   \n",
       "166                                            1975-11   \n",
       "167                                            1975-12   \n",
       "168  Monthly milk production: pounds per cow. Jan 6...   \n",
       "\n",
       "     Monthly milk production: pounds per cow. Jan 62 ? Dec 75  \n",
       "164                                              817.0         \n",
       "165                                              827.0         \n",
       "166                                              797.0         \n",
       "167                                              843.0         \n",
       "168                                                NaN         "
      ]
     },
     "execution_count": 54,
     "metadata": {},
     "output_type": "execute_result"
    }
   ],
   "source": [
    "df.tail()"
   ]
  },
  {
   "cell_type": "code",
   "execution_count": 55,
   "id": "35a432ab-562f-4a22-b14c-9de97c47c7f1",
   "metadata": {},
   "outputs": [],
   "source": [
    "df.drop(168,axis=0,inplace=True)"
   ]
  },
  {
   "cell_type": "code",
   "execution_count": 56,
   "id": "a6463510-1055-41ac-8c27-37cd040ba3b2",
   "metadata": {},
   "outputs": [
    {
     "data": {
      "text/html": [
       "<div>\n",
       "<style scoped>\n",
       "    .dataframe tbody tr th:only-of-type {\n",
       "        vertical-align: middle;\n",
       "    }\n",
       "\n",
       "    .dataframe tbody tr th {\n",
       "        vertical-align: top;\n",
       "    }\n",
       "\n",
       "    .dataframe thead th {\n",
       "        text-align: right;\n",
       "    }\n",
       "</style>\n",
       "<table border=\"1\" class=\"dataframe\">\n",
       "  <thead>\n",
       "    <tr style=\"text-align: right;\">\n",
       "      <th></th>\n",
       "      <th>Month</th>\n",
       "      <th>Monthly milk production: pounds per cow. Jan 62 ? Dec 75</th>\n",
       "    </tr>\n",
       "  </thead>\n",
       "  <tbody>\n",
       "    <tr>\n",
       "      <th>163</th>\n",
       "      <td>1975-08</td>\n",
       "      <td>858.0</td>\n",
       "    </tr>\n",
       "    <tr>\n",
       "      <th>164</th>\n",
       "      <td>1975-09</td>\n",
       "      <td>817.0</td>\n",
       "    </tr>\n",
       "    <tr>\n",
       "      <th>165</th>\n",
       "      <td>1975-10</td>\n",
       "      <td>827.0</td>\n",
       "    </tr>\n",
       "    <tr>\n",
       "      <th>166</th>\n",
       "      <td>1975-11</td>\n",
       "      <td>797.0</td>\n",
       "    </tr>\n",
       "    <tr>\n",
       "      <th>167</th>\n",
       "      <td>1975-12</td>\n",
       "      <td>843.0</td>\n",
       "    </tr>\n",
       "  </tbody>\n",
       "</table>\n",
       "</div>"
      ],
      "text/plain": [
       "       Month  Monthly milk production: pounds per cow. Jan 62 ? Dec 75\n",
       "163  1975-08                                              858.0       \n",
       "164  1975-09                                              817.0       \n",
       "165  1975-10                                              827.0       \n",
       "166  1975-11                                              797.0       \n",
       "167  1975-12                                              843.0       "
      ]
     },
     "execution_count": 56,
     "metadata": {},
     "output_type": "execute_result"
    }
   ],
   "source": [
    "df.tail()"
   ]
  },
  {
   "cell_type": "code",
   "execution_count": 68,
   "id": "e31bfc45-9c43-49ee-b84b-5b427eebd4ad",
   "metadata": {},
   "outputs": [],
   "source": [
    "df.columns = [\"ds\", \"y\"]"
   ]
  },
  {
   "cell_type": "code",
   "execution_count": 69,
   "id": "e70f9a7a-deee-4fdf-9be9-0da189d4cf9c",
   "metadata": {},
   "outputs": [
    {
     "data": {
      "text/plain": [
       "<Axes: >"
      ]
     },
     "execution_count": 69,
     "metadata": {},
     "output_type": "execute_result"
    }
   ],
   "source": [
    "df.plot()"
   ]
  },
  {
   "cell_type": "code",
   "execution_count": 58,
   "id": "ea28cc32-e739-4478-a8f4-f2dc8e1a1717",
   "metadata": {},
   "outputs": [
    {
     "data": {
      "text/html": [
       "<div>\n",
       "<style scoped>\n",
       "    .dataframe tbody tr th:only-of-type {\n",
       "        vertical-align: middle;\n",
       "    }\n",
       "\n",
       "    .dataframe tbody tr th {\n",
       "        vertical-align: top;\n",
       "    }\n",
       "\n",
       "    .dataframe thead th {\n",
       "        text-align: right;\n",
       "    }\n",
       "</style>\n",
       "<table border=\"1\" class=\"dataframe\">\n",
       "  <thead>\n",
       "    <tr style=\"text-align: right;\">\n",
       "      <th></th>\n",
       "      <th>ds</th>\n",
       "      <th>y</th>\n",
       "    </tr>\n",
       "  </thead>\n",
       "  <tbody>\n",
       "    <tr>\n",
       "      <th>0</th>\n",
       "      <td>1962-01</td>\n",
       "      <td>589.0</td>\n",
       "    </tr>\n",
       "    <tr>\n",
       "      <th>1</th>\n",
       "      <td>1962-02</td>\n",
       "      <td>561.0</td>\n",
       "    </tr>\n",
       "    <tr>\n",
       "      <th>2</th>\n",
       "      <td>1962-03</td>\n",
       "      <td>640.0</td>\n",
       "    </tr>\n",
       "    <tr>\n",
       "      <th>3</th>\n",
       "      <td>1962-04</td>\n",
       "      <td>656.0</td>\n",
       "    </tr>\n",
       "    <tr>\n",
       "      <th>4</th>\n",
       "      <td>1962-05</td>\n",
       "      <td>727.0</td>\n",
       "    </tr>\n",
       "  </tbody>\n",
       "</table>\n",
       "</div>"
      ],
      "text/plain": [
       "        ds      y\n",
       "0  1962-01  589.0\n",
       "1  1962-02  561.0\n",
       "2  1962-03  640.0\n",
       "3  1962-04  656.0\n",
       "4  1962-05  727.0"
      ]
     },
     "execution_count": 58,
     "metadata": {},
     "output_type": "execute_result"
    }
   ],
   "source": [
    "df.head()"
   ]
  },
  {
   "cell_type": "code",
   "execution_count": 70,
   "id": "a776deee-44fa-4dab-b54f-89f605b0327f",
   "metadata": {},
   "outputs": [],
   "source": [
    "df['ds']=pd.to_datetime(df['ds'])"
   ]
  },
  {
   "cell_type": "code",
   "execution_count": 60,
   "id": "da5e0cf5-0944-4e2f-9b6f-8988e3a2e66d",
   "metadata": {},
   "outputs": [
    {
     "data": {
      "text/html": [
       "<div>\n",
       "<style scoped>\n",
       "    .dataframe tbody tr th:only-of-type {\n",
       "        vertical-align: middle;\n",
       "    }\n",
       "\n",
       "    .dataframe tbody tr th {\n",
       "        vertical-align: top;\n",
       "    }\n",
       "\n",
       "    .dataframe thead th {\n",
       "        text-align: right;\n",
       "    }\n",
       "</style>\n",
       "<table border=\"1\" class=\"dataframe\">\n",
       "  <thead>\n",
       "    <tr style=\"text-align: right;\">\n",
       "      <th></th>\n",
       "      <th>ds</th>\n",
       "      <th>y</th>\n",
       "    </tr>\n",
       "  </thead>\n",
       "  <tbody>\n",
       "    <tr>\n",
       "      <th>0</th>\n",
       "      <td>1962-01-01</td>\n",
       "      <td>589.0</td>\n",
       "    </tr>\n",
       "    <tr>\n",
       "      <th>1</th>\n",
       "      <td>1962-02-01</td>\n",
       "      <td>561.0</td>\n",
       "    </tr>\n",
       "    <tr>\n",
       "      <th>2</th>\n",
       "      <td>1962-03-01</td>\n",
       "      <td>640.0</td>\n",
       "    </tr>\n",
       "    <tr>\n",
       "      <th>3</th>\n",
       "      <td>1962-04-01</td>\n",
       "      <td>656.0</td>\n",
       "    </tr>\n",
       "    <tr>\n",
       "      <th>4</th>\n",
       "      <td>1962-05-01</td>\n",
       "      <td>727.0</td>\n",
       "    </tr>\n",
       "  </tbody>\n",
       "</table>\n",
       "</div>"
      ],
      "text/plain": [
       "          ds      y\n",
       "0 1962-01-01  589.0\n",
       "1 1962-02-01  561.0\n",
       "2 1962-03-01  640.0\n",
       "3 1962-04-01  656.0\n",
       "4 1962-05-01  727.0"
      ]
     },
     "execution_count": 60,
     "metadata": {},
     "output_type": "execute_result"
    }
   ],
   "source": [
    "df.head()"
   ]
  },
  {
   "cell_type": "code",
   "execution_count": 63,
   "id": "94b951e0-9f85-4248-9e54-1d4e7ab41ba0",
   "metadata": {},
   "outputs": [
    {
     "data": {
      "text/plain": [
       "<Axes: >"
      ]
     },
     "execution_count": 63,
     "metadata": {},
     "output_type": "execute_result"
    }
   ],
   "source": [
    "df['y'].plot()"
   ]
  },
  {
   "cell_type": "code",
   "execution_count": 64,
   "id": "067baeba-b0ac-4940-b116-7bc828103b04",
   "metadata": {},
   "outputs": [
    {
     "data": {
      "text/html": [
       "<div>\n",
       "<style scoped>\n",
       "    .dataframe tbody tr th:only-of-type {\n",
       "        vertical-align: middle;\n",
       "    }\n",
       "\n",
       "    .dataframe tbody tr th {\n",
       "        vertical-align: top;\n",
       "    }\n",
       "\n",
       "    .dataframe thead th {\n",
       "        text-align: right;\n",
       "    }\n",
       "</style>\n",
       "<table border=\"1\" class=\"dataframe\">\n",
       "  <thead>\n",
       "    <tr style=\"text-align: right;\">\n",
       "      <th></th>\n",
       "      <th>ds</th>\n",
       "      <th>y</th>\n",
       "    </tr>\n",
       "  </thead>\n",
       "  <tbody>\n",
       "    <tr>\n",
       "      <th>0</th>\n",
       "      <td>1962-01-01</td>\n",
       "      <td>589.0</td>\n",
       "    </tr>\n",
       "    <tr>\n",
       "      <th>1</th>\n",
       "      <td>1962-02-01</td>\n",
       "      <td>561.0</td>\n",
       "    </tr>\n",
       "    <tr>\n",
       "      <th>2</th>\n",
       "      <td>1962-03-01</td>\n",
       "      <td>640.0</td>\n",
       "    </tr>\n",
       "    <tr>\n",
       "      <th>3</th>\n",
       "      <td>1962-04-01</td>\n",
       "      <td>656.0</td>\n",
       "    </tr>\n",
       "    <tr>\n",
       "      <th>4</th>\n",
       "      <td>1962-05-01</td>\n",
       "      <td>727.0</td>\n",
       "    </tr>\n",
       "  </tbody>\n",
       "</table>\n",
       "</div>"
      ],
      "text/plain": [
       "          ds      y\n",
       "0 1962-01-01  589.0\n",
       "1 1962-02-01  561.0\n",
       "2 1962-03-01  640.0\n",
       "3 1962-04-01  656.0\n",
       "4 1962-05-01  727.0"
      ]
     },
     "execution_count": 64,
     "metadata": {},
     "output_type": "execute_result"
    }
   ],
   "source": [
    "df.head()"
   ]
  },
  {
   "cell_type": "code",
   "execution_count": 65,
   "id": "92f10011-e841-4b8d-9141-da5c236eaa0b",
   "metadata": {},
   "outputs": [
    {
     "data": {
      "text/plain": [
       "<Axes: >"
      ]
     },
     "execution_count": 65,
     "metadata": {},
     "output_type": "execute_result"
    }
   ],
   "source": [
    "df['y'].plot()"
   ]
  },
  {
   "cell_type": "code",
   "execution_count": 72,
   "id": "5c095f15-b0df-471a-a6c5-672966bfdff8",
   "metadata": {},
   "outputs": [
    {
     "data": {
      "text/plain": [
       "['__class__',\n",
       " '__delattr__',\n",
       " '__dict__',\n",
       " '__dir__',\n",
       " '__doc__',\n",
       " '__eq__',\n",
       " '__format__',\n",
       " '__ge__',\n",
       " '__getattribute__',\n",
       " '__getstate__',\n",
       " '__gt__',\n",
       " '__hash__',\n",
       " '__init__',\n",
       " '__init_subclass__',\n",
       " '__le__',\n",
       " '__lt__',\n",
       " '__module__',\n",
       " '__ne__',\n",
       " '__new__',\n",
       " '__reduce__',\n",
       " '__reduce_ex__',\n",
       " '__repr__',\n",
       " '__setattr__',\n",
       " '__sizeof__',\n",
       " '__str__',\n",
       " '__subclasshook__',\n",
       " '__weakref__',\n",
       " '_load_stan_backend',\n",
       " '_logistic_uncertainty',\n",
       " '_make_historical_mat_time',\n",
       " '_make_trend_shift_matrix',\n",
       " '_sample_uncertainty',\n",
       " 'add_country_holidays',\n",
       " 'add_group_component',\n",
       " 'add_regressor',\n",
       " 'add_seasonality',\n",
       " 'calculate_initial_params',\n",
       " 'construct_holiday_dataframe',\n",
       " 'fit',\n",
       " 'flat_growth_init',\n",
       " 'flat_trend',\n",
       " 'fourier_series',\n",
       " 'initialize_scales',\n",
       " 'linear_growth_init',\n",
       " 'logistic_growth_init',\n",
       " 'make_all_seasonality_features',\n",
       " 'make_future_dataframe',\n",
       " 'make_holiday_features',\n",
       " 'make_seasonality_features',\n",
       " 'parse_seasonality_args',\n",
       " 'percentile',\n",
       " 'piecewise_linear',\n",
       " 'piecewise_logistic',\n",
       " 'plot',\n",
       " 'plot_components',\n",
       " 'predict',\n",
       " 'predict_seasonal_components',\n",
       " 'predict_trend',\n",
       " 'predict_uncertainty',\n",
       " 'predictive_samples',\n",
       " 'preprocess',\n",
       " 'regressor_column_matrix',\n",
       " 'sample_model',\n",
       " 'sample_model_vectorized',\n",
       " 'sample_posterior_predictive',\n",
       " 'sample_predictive_trend',\n",
       " 'sample_predictive_trend_vectorized',\n",
       " 'set_auto_seasonalities',\n",
       " 'set_changepoints',\n",
       " 'setup_dataframe',\n",
       " 'validate_column_name',\n",
       " 'validate_inputs']"
      ]
     },
     "execution_count": 72,
     "metadata": {},
     "output_type": "execute_result"
    }
   ],
   "source": [
    "from prophet import Prophet\n",
    "dir(Prophet)"
   ]
  },
  {
   "cell_type": "code",
   "execution_count": 73,
   "id": "9253e7e5-6ded-4b99-b03d-47b35caffa57",
   "metadata": {},
   "outputs": [
    {
     "data": {
      "text/html": [
       "<div>\n",
       "<style scoped>\n",
       "    .dataframe tbody tr th:only-of-type {\n",
       "        vertical-align: middle;\n",
       "    }\n",
       "\n",
       "    .dataframe tbody tr th {\n",
       "        vertical-align: top;\n",
       "    }\n",
       "\n",
       "    .dataframe thead th {\n",
       "        text-align: right;\n",
       "    }\n",
       "</style>\n",
       "<table border=\"1\" class=\"dataframe\">\n",
       "  <thead>\n",
       "    <tr style=\"text-align: right;\">\n",
       "      <th></th>\n",
       "      <th>ds</th>\n",
       "      <th>y</th>\n",
       "    </tr>\n",
       "  </thead>\n",
       "  <tbody>\n",
       "    <tr>\n",
       "      <th>0</th>\n",
       "      <td>1962-01-01</td>\n",
       "      <td>589.0</td>\n",
       "    </tr>\n",
       "    <tr>\n",
       "      <th>1</th>\n",
       "      <td>1962-02-01</td>\n",
       "      <td>561.0</td>\n",
       "    </tr>\n",
       "    <tr>\n",
       "      <th>2</th>\n",
       "      <td>1962-03-01</td>\n",
       "      <td>640.0</td>\n",
       "    </tr>\n",
       "    <tr>\n",
       "      <th>3</th>\n",
       "      <td>1962-04-01</td>\n",
       "      <td>656.0</td>\n",
       "    </tr>\n",
       "    <tr>\n",
       "      <th>4</th>\n",
       "      <td>1962-05-01</td>\n",
       "      <td>727.0</td>\n",
       "    </tr>\n",
       "  </tbody>\n",
       "</table>\n",
       "</div>"
      ],
      "text/plain": [
       "          ds      y\n",
       "0 1962-01-01  589.0\n",
       "1 1962-02-01  561.0\n",
       "2 1962-03-01  640.0\n",
       "3 1962-04-01  656.0\n",
       "4 1962-05-01  727.0"
      ]
     },
     "execution_count": 73,
     "metadata": {},
     "output_type": "execute_result"
    }
   ],
   "source": [
    "df.head()"
   ]
  },
  {
   "cell_type": "code",
   "execution_count": 74,
   "id": "2572face-5951-41c5-a3be-8587eab87c6c",
   "metadata": {},
   "outputs": [
    {
     "name": "stderr",
     "output_type": "stream",
     "text": [
      "17:58:09 - cmdstanpy - INFO - Chain [1] start processing\n",
      "17:58:12 - cmdstanpy - INFO - Chain [1] done processing\n"
     ]
    },
    {
     "data": {
      "text/plain": [
       "<prophet.forecaster.Prophet at 0x1b0dd4cc380>"
      ]
     },
     "execution_count": 74,
     "metadata": {},
     "output_type": "execute_result"
    }
   ],
   "source": [
    "### intiialize the Model\n",
    "model=Prophet()\n",
    "model.fit(df)"
   ]
  },
  {
   "cell_type": "code",
   "execution_count": 75,
   "id": "a2112999-0991-4bc9-9535-ba84d339f63e",
   "metadata": {},
   "outputs": [
    {
     "data": {
      "text/plain": [
       "<prophet.forecaster.Prophet at 0x1b0dd4cc380>"
      ]
     },
     "execution_count": 75,
     "metadata": {},
     "output_type": "execute_result"
    }
   ],
   "source": [
    "model"
   ]
  },
  {
   "cell_type": "code",
   "execution_count": 76,
   "id": "728ad28a-9635-4676-9796-c994a1a9c14e",
   "metadata": {},
   "outputs": [
    {
     "data": {
      "text/plain": [
       "OrderedDict([('yearly',\n",
       "              {'period': 365.25,\n",
       "               'fourier_order': 10,\n",
       "               'prior_scale': 10.0,\n",
       "               'mode': 'additive',\n",
       "               'condition_name': None})])"
      ]
     },
     "execution_count": 76,
     "metadata": {},
     "output_type": "execute_result"
    }
   ],
   "source": [
    "model.seasonalities"
   ]
  },
  {
   "cell_type": "code",
   "execution_count": 77,
   "id": "8eca4b0f-bc11-4e02-99e0-5ef93f0e3abc",
   "metadata": {},
   "outputs": [
    {
     "data": {
      "text/plain": [
       "{'additive': ['yearly',\n",
       "  'additive_terms',\n",
       "  'extra_regressors_additive',\n",
       "  'holidays'],\n",
       " 'multiplicative': ['multiplicative_terms', 'extra_regressors_multiplicative']}"
      ]
     },
     "execution_count": 77,
     "metadata": {},
     "output_type": "execute_result"
    }
   ],
   "source": [
    "model.component_modes"
   ]
  },
  {
   "cell_type": "code",
   "execution_count": 78,
   "id": "6183c5ac-893f-4c07-bac6-6f2e0fb41dde",
   "metadata": {},
   "outputs": [
    {
     "data": {
      "text/html": [
       "<div>\n",
       "<style scoped>\n",
       "    .dataframe tbody tr th:only-of-type {\n",
       "        vertical-align: middle;\n",
       "    }\n",
       "\n",
       "    .dataframe tbody tr th {\n",
       "        vertical-align: top;\n",
       "    }\n",
       "\n",
       "    .dataframe thead th {\n",
       "        text-align: right;\n",
       "    }\n",
       "</style>\n",
       "<table border=\"1\" class=\"dataframe\">\n",
       "  <thead>\n",
       "    <tr style=\"text-align: right;\">\n",
       "      <th></th>\n",
       "      <th>ds</th>\n",
       "      <th>y</th>\n",
       "    </tr>\n",
       "  </thead>\n",
       "  <tbody>\n",
       "    <tr>\n",
       "      <th>163</th>\n",
       "      <td>1975-08-01</td>\n",
       "      <td>858.0</td>\n",
       "    </tr>\n",
       "    <tr>\n",
       "      <th>164</th>\n",
       "      <td>1975-09-01</td>\n",
       "      <td>817.0</td>\n",
       "    </tr>\n",
       "    <tr>\n",
       "      <th>165</th>\n",
       "      <td>1975-10-01</td>\n",
       "      <td>827.0</td>\n",
       "    </tr>\n",
       "    <tr>\n",
       "      <th>166</th>\n",
       "      <td>1975-11-01</td>\n",
       "      <td>797.0</td>\n",
       "    </tr>\n",
       "    <tr>\n",
       "      <th>167</th>\n",
       "      <td>1975-12-01</td>\n",
       "      <td>843.0</td>\n",
       "    </tr>\n",
       "  </tbody>\n",
       "</table>\n",
       "</div>"
      ],
      "text/plain": [
       "            ds      y\n",
       "163 1975-08-01  858.0\n",
       "164 1975-09-01  817.0\n",
       "165 1975-10-01  827.0\n",
       "166 1975-11-01  797.0\n",
       "167 1975-12-01  843.0"
      ]
     },
     "execution_count": 78,
     "metadata": {},
     "output_type": "execute_result"
    }
   ],
   "source": [
    "#### Create future dates of 365 days\n",
    "future_dates=model.make_future_dataframe(periods=365)\n",
    "df.tail()"
   ]
  },
  {
   "cell_type": "code",
   "execution_count": 79,
   "id": "d4346502-d1a9-4878-a233-759eabbb9310",
   "metadata": {},
   "outputs": [
    {
     "data": {
      "text/html": [
       "<div>\n",
       "<style scoped>\n",
       "    .dataframe tbody tr th:only-of-type {\n",
       "        vertical-align: middle;\n",
       "    }\n",
       "\n",
       "    .dataframe tbody tr th {\n",
       "        vertical-align: top;\n",
       "    }\n",
       "\n",
       "    .dataframe thead th {\n",
       "        text-align: right;\n",
       "    }\n",
       "</style>\n",
       "<table border=\"1\" class=\"dataframe\">\n",
       "  <thead>\n",
       "    <tr style=\"text-align: right;\">\n",
       "      <th></th>\n",
       "      <th>ds</th>\n",
       "      <th>trend</th>\n",
       "      <th>yhat_lower</th>\n",
       "      <th>yhat_upper</th>\n",
       "      <th>trend_lower</th>\n",
       "      <th>trend_upper</th>\n",
       "      <th>additive_terms</th>\n",
       "      <th>additive_terms_lower</th>\n",
       "      <th>additive_terms_upper</th>\n",
       "      <th>yearly</th>\n",
       "      <th>yearly_lower</th>\n",
       "      <th>yearly_upper</th>\n",
       "      <th>multiplicative_terms</th>\n",
       "      <th>multiplicative_terms_lower</th>\n",
       "      <th>multiplicative_terms_upper</th>\n",
       "      <th>yhat</th>\n",
       "    </tr>\n",
       "  </thead>\n",
       "  <tbody>\n",
       "    <tr>\n",
       "      <th>0</th>\n",
       "      <td>1962-01-01</td>\n",
       "      <td>606.936057</td>\n",
       "      <td>576.562401</td>\n",
       "      <td>597.696220</td>\n",
       "      <td>606.936057</td>\n",
       "      <td>606.936057</td>\n",
       "      <td>-20.121091</td>\n",
       "      <td>-20.121091</td>\n",
       "      <td>-20.121091</td>\n",
       "      <td>-20.121091</td>\n",
       "      <td>-20.121091</td>\n",
       "      <td>-20.121091</td>\n",
       "      <td>0.0</td>\n",
       "      <td>0.0</td>\n",
       "      <td>0.0</td>\n",
       "      <td>586.814966</td>\n",
       "    </tr>\n",
       "    <tr>\n",
       "      <th>1</th>\n",
       "      <td>1962-02-01</td>\n",
       "      <td>608.648457</td>\n",
       "      <td>535.445452</td>\n",
       "      <td>555.429114</td>\n",
       "      <td>608.648457</td>\n",
       "      <td>608.648457</td>\n",
       "      <td>-62.542349</td>\n",
       "      <td>-62.542349</td>\n",
       "      <td>-62.542349</td>\n",
       "      <td>-62.542349</td>\n",
       "      <td>-62.542349</td>\n",
       "      <td>-62.542349</td>\n",
       "      <td>0.0</td>\n",
       "      <td>0.0</td>\n",
       "      <td>0.0</td>\n",
       "      <td>546.106109</td>\n",
       "    </tr>\n",
       "    <tr>\n",
       "      <th>2</th>\n",
       "      <td>1962-03-01</td>\n",
       "      <td>610.195141</td>\n",
       "      <td>631.693943</td>\n",
       "      <td>651.291605</td>\n",
       "      <td>610.195141</td>\n",
       "      <td>610.195141</td>\n",
       "      <td>31.406679</td>\n",
       "      <td>31.406679</td>\n",
       "      <td>31.406679</td>\n",
       "      <td>31.406679</td>\n",
       "      <td>31.406679</td>\n",
       "      <td>31.406679</td>\n",
       "      <td>0.0</td>\n",
       "      <td>0.0</td>\n",
       "      <td>0.0</td>\n",
       "      <td>641.601820</td>\n",
       "    </tr>\n",
       "    <tr>\n",
       "      <th>3</th>\n",
       "      <td>1962-04-01</td>\n",
       "      <td>611.907542</td>\n",
       "      <td>648.687380</td>\n",
       "      <td>668.456190</td>\n",
       "      <td>611.907542</td>\n",
       "      <td>611.907542</td>\n",
       "      <td>46.736151</td>\n",
       "      <td>46.736151</td>\n",
       "      <td>46.736151</td>\n",
       "      <td>46.736151</td>\n",
       "      <td>46.736151</td>\n",
       "      <td>46.736151</td>\n",
       "      <td>0.0</td>\n",
       "      <td>0.0</td>\n",
       "      <td>0.0</td>\n",
       "      <td>658.643693</td>\n",
       "    </tr>\n",
       "    <tr>\n",
       "      <th>4</th>\n",
       "      <td>1962-05-01</td>\n",
       "      <td>613.564703</td>\n",
       "      <td>711.863585</td>\n",
       "      <td>731.519087</td>\n",
       "      <td>613.564703</td>\n",
       "      <td>613.564703</td>\n",
       "      <td>108.071976</td>\n",
       "      <td>108.071976</td>\n",
       "      <td>108.071976</td>\n",
       "      <td>108.071976</td>\n",
       "      <td>108.071976</td>\n",
       "      <td>108.071976</td>\n",
       "      <td>0.0</td>\n",
       "      <td>0.0</td>\n",
       "      <td>0.0</td>\n",
       "      <td>721.636679</td>\n",
       "    </tr>\n",
       "  </tbody>\n",
       "</table>\n",
       "</div>"
      ],
      "text/plain": [
       "          ds       trend  yhat_lower  yhat_upper  trend_lower  trend_upper  \\\n",
       "0 1962-01-01  606.936057  576.562401  597.696220   606.936057   606.936057   \n",
       "1 1962-02-01  608.648457  535.445452  555.429114   608.648457   608.648457   \n",
       "2 1962-03-01  610.195141  631.693943  651.291605   610.195141   610.195141   \n",
       "3 1962-04-01  611.907542  648.687380  668.456190   611.907542   611.907542   \n",
       "4 1962-05-01  613.564703  711.863585  731.519087   613.564703   613.564703   \n",
       "\n",
       "   additive_terms  additive_terms_lower  additive_terms_upper      yearly  \\\n",
       "0      -20.121091            -20.121091            -20.121091  -20.121091   \n",
       "1      -62.542349            -62.542349            -62.542349  -62.542349   \n",
       "2       31.406679             31.406679             31.406679   31.406679   \n",
       "3       46.736151             46.736151             46.736151   46.736151   \n",
       "4      108.071976            108.071976            108.071976  108.071976   \n",
       "\n",
       "   yearly_lower  yearly_upper  multiplicative_terms  \\\n",
       "0    -20.121091    -20.121091                   0.0   \n",
       "1    -62.542349    -62.542349                   0.0   \n",
       "2     31.406679     31.406679                   0.0   \n",
       "3     46.736151     46.736151                   0.0   \n",
       "4    108.071976    108.071976                   0.0   \n",
       "\n",
       "   multiplicative_terms_lower  multiplicative_terms_upper        yhat  \n",
       "0                         0.0                         0.0  586.814966  \n",
       "1                         0.0                         0.0  546.106109  \n",
       "2                         0.0                         0.0  641.601820  \n",
       "3                         0.0                         0.0  658.643693  \n",
       "4                         0.0                         0.0  721.636679  "
      ]
     },
     "execution_count": 79,
     "metadata": {},
     "output_type": "execute_result"
    }
   ],
   "source": [
    "### Prediction\n",
    "prediction=model.predict(future_dates)\n",
    "prediction.head()"
   ]
  },
  {
   "cell_type": "code",
   "execution_count": 80,
   "id": "997148ba-3011-4f41-abe7-9b96648d7ce8",
   "metadata": {},
   "outputs": [
    {
     "data": {
      "text/html": [
       "<div>\n",
       "<style scoped>\n",
       "    .dataframe tbody tr th:only-of-type {\n",
       "        vertical-align: middle;\n",
       "    }\n",
       "\n",
       "    .dataframe tbody tr th {\n",
       "        vertical-align: top;\n",
       "    }\n",
       "\n",
       "    .dataframe thead th {\n",
       "        text-align: right;\n",
       "    }\n",
       "</style>\n",
       "<table border=\"1\" class=\"dataframe\">\n",
       "  <thead>\n",
       "    <tr style=\"text-align: right;\">\n",
       "      <th></th>\n",
       "      <th>ds</th>\n",
       "      <th>yhat</th>\n",
       "      <th>yhat_lower</th>\n",
       "      <th>yhat_upper</th>\n",
       "    </tr>\n",
       "  </thead>\n",
       "  <tbody>\n",
       "    <tr>\n",
       "      <th>528</th>\n",
       "      <td>1976-11-26</td>\n",
       "      <td>815.374657</td>\n",
       "      <td>804.389270</td>\n",
       "      <td>826.884263</td>\n",
       "    </tr>\n",
       "    <tr>\n",
       "      <th>529</th>\n",
       "      <td>1976-11-27</td>\n",
       "      <td>818.550964</td>\n",
       "      <td>807.468450</td>\n",
       "      <td>829.911933</td>\n",
       "    </tr>\n",
       "    <tr>\n",
       "      <th>530</th>\n",
       "      <td>1976-11-28</td>\n",
       "      <td>821.901313</td>\n",
       "      <td>810.316610</td>\n",
       "      <td>832.887091</td>\n",
       "    </tr>\n",
       "    <tr>\n",
       "      <th>531</th>\n",
       "      <td>1976-11-29</td>\n",
       "      <td>825.363633</td>\n",
       "      <td>814.063067</td>\n",
       "      <td>836.060451</td>\n",
       "    </tr>\n",
       "    <tr>\n",
       "      <th>532</th>\n",
       "      <td>1976-11-30</td>\n",
       "      <td>828.868853</td>\n",
       "      <td>818.492014</td>\n",
       "      <td>839.530292</td>\n",
       "    </tr>\n",
       "  </tbody>\n",
       "</table>\n",
       "</div>"
      ],
      "text/plain": [
       "            ds        yhat  yhat_lower  yhat_upper\n",
       "528 1976-11-26  815.374657  804.389270  826.884263\n",
       "529 1976-11-27  818.550964  807.468450  829.911933\n",
       "530 1976-11-28  821.901313  810.316610  832.887091\n",
       "531 1976-11-29  825.363633  814.063067  836.060451\n",
       "532 1976-11-30  828.868853  818.492014  839.530292"
      ]
     },
     "execution_count": 80,
     "metadata": {},
     "output_type": "execute_result"
    }
   ],
   "source": [
    "prediction[['ds','yhat','yhat_lower','yhat_upper']].tail()"
   ]
  },
  {
   "cell_type": "code",
   "execution_count": 81,
   "id": "79b8b2cb-8260-42f5-9374-5e10c19d3fad",
   "metadata": {},
   "outputs": [
    {
     "data": {
      "text/html": [
       "<div>\n",
       "<style scoped>\n",
       "    .dataframe tbody tr th:only-of-type {\n",
       "        vertical-align: middle;\n",
       "    }\n",
       "\n",
       "    .dataframe tbody tr th {\n",
       "        vertical-align: top;\n",
       "    }\n",
       "\n",
       "    .dataframe thead th {\n",
       "        text-align: right;\n",
       "    }\n",
       "</style>\n",
       "<table border=\"1\" class=\"dataframe\">\n",
       "  <thead>\n",
       "    <tr style=\"text-align: right;\">\n",
       "      <th></th>\n",
       "      <th>ds</th>\n",
       "      <th>yhat</th>\n",
       "      <th>yhat_lower</th>\n",
       "      <th>yhat_upper</th>\n",
       "    </tr>\n",
       "  </thead>\n",
       "  <tbody>\n",
       "    <tr>\n",
       "      <th>0</th>\n",
       "      <td>1962-01-01</td>\n",
       "      <td>586.814966</td>\n",
       "      <td>576.562401</td>\n",
       "      <td>597.696220</td>\n",
       "    </tr>\n",
       "    <tr>\n",
       "      <th>1</th>\n",
       "      <td>1962-02-01</td>\n",
       "      <td>546.106109</td>\n",
       "      <td>535.445452</td>\n",
       "      <td>555.429114</td>\n",
       "    </tr>\n",
       "    <tr>\n",
       "      <th>2</th>\n",
       "      <td>1962-03-01</td>\n",
       "      <td>641.601820</td>\n",
       "      <td>631.693943</td>\n",
       "      <td>651.291605</td>\n",
       "    </tr>\n",
       "    <tr>\n",
       "      <th>3</th>\n",
       "      <td>1962-04-01</td>\n",
       "      <td>658.643693</td>\n",
       "      <td>648.687380</td>\n",
       "      <td>668.456190</td>\n",
       "    </tr>\n",
       "    <tr>\n",
       "      <th>4</th>\n",
       "      <td>1962-05-01</td>\n",
       "      <td>721.636679</td>\n",
       "      <td>711.863585</td>\n",
       "      <td>731.519087</td>\n",
       "    </tr>\n",
       "  </tbody>\n",
       "</table>\n",
       "</div>"
      ],
      "text/plain": [
       "          ds        yhat  yhat_lower  yhat_upper\n",
       "0 1962-01-01  586.814966  576.562401  597.696220\n",
       "1 1962-02-01  546.106109  535.445452  555.429114\n",
       "2 1962-03-01  641.601820  631.693943  651.291605\n",
       "3 1962-04-01  658.643693  648.687380  668.456190\n",
       "4 1962-05-01  721.636679  711.863585  731.519087"
      ]
     },
     "execution_count": 81,
     "metadata": {},
     "output_type": "execute_result"
    }
   ],
   "source": [
    "prediction[['ds','yhat','yhat_lower','yhat_upper']].head()"
   ]
  },
  {
   "cell_type": "markdown",
   "id": "16a66eb0-6cbd-4080-af2c-2dffe2414207",
   "metadata": {},
   "source": [
    "Plotting the Forecasts\n",
    "Prophet has an inbuilt feature that enables us to plot the forecasts we just generated. This is achieved using model.plot() and passing in our forecasts as the argument. The blue line in the graph represents the predicted values while the black dots represents the data in our dataset.\n"
   ]
  },
  {
   "cell_type": "code",
   "execution_count": 82,
   "id": "e48b8b29-414b-4752-ae44-5dc77eccf5b0",
   "metadata": {},
   "outputs": [
    {
     "data": {
      "image/png": "[encoded data removed]",
      "text/plain": [
       "<Figure size 1000x600 with 1 Axes>"
      ]
     },
     "execution_count": 82,
     "metadata": {},
     "output_type": "execute_result"
    }
   ],
   "source": [
    "#### plot the predicted projection\n",
    "model.plot(prediction)"
   ]
  },
  {
   "cell_type": "code",
   "execution_count": 83,
   "id": "44e69a16-2a78-4da1-b921-325d46169345",
   "metadata": {},
   "outputs": [
    {
     "data": {
      "image/png": "[encoded data removed]",
      "text/plain": [
       "<Figure size 900x600 with 2 Axes>"
      ]
     },
     "execution_count": 83,
     "metadata": {},
     "output_type": "execute_result"
    }
   ],
   "source": [
    "##### Visualize Each Components[Trends,Weekly]\n",
    "model.plot_components(prediction)"
   ]
  },
  {
   "cell_type": "markdown",
   "id": "9e8c48c0-30ef-433d-927e-2ce9085ee4cb",
   "metadata": {},
   "source": [
    "Cross Validation\n",
    "Next let’s measure the forecast error using the historical data. We’ll do this by comparing the predicted values with the actual values. In order to perform this operation we select cut of points in the history of the data and fit the model with data upto that cut off point. Afterwards we compare the actual values to the predicted values. The cross_validation method allows us to do this in Prophet. This method take the following parameters as explained below:\n",
    "\n",
    "horizon the forecast horizon\n",
    "initial the size of the initial training period\n",
    "period the spacing between cutoff dates"
   ]
  },
  {
   "cell_type": "code",
   "execution_count": 84,
   "id": "7e44feab-ae35-42a1-b1f5-fe67ebe7a405",
   "metadata": {},
   "outputs": [
    {
     "data": {
      "text/plain": [
       "(168, 2)"
      ]
     },
     "execution_count": 84,
     "metadata": {},
     "output_type": "execute_result"
    }
   ],
   "source": [
    "df.shape"
   ]
  },
  {
   "cell_type": "code",
   "execution_count": 86,
   "id": "ffd09f7f-c469-4a31-a9af-5438cf37e33b",
   "metadata": {},
   "outputs": [
    {
     "data": {
      "application/vnd.jupyter.widget-view+json": {
       "model_id": "8b6bb33b176f4453a82b80309a8a0de5",
       "version_major": 2,
       "version_minor": 0
      },
      "text/plain": [
       "  0%|          | 0/21 [00:00<?, ?it/s]"
      ]
     },
     "metadata": {},
     "output_type": "display_data"
    },
    {
     "name": "stderr",
     "output_type": "stream",
     "text": [
      "17:59:07 - cmdstanpy - INFO - Chain [1] start processing\n",
      "17:59:50 - cmdstanpy - INFO - Chain [1] done processing\n",
      "17:59:51 - cmdstanpy - INFO - Chain [1] start processing\n",
      "17:59:51 - cmdstanpy - INFO - Chain [1] done processing\n",
      "17:59:52 - cmdstanpy - INFO - Chain [1] start processing\n",
      "17:59:53 - cmdstanpy - INFO - Chain [1] done processing\n",
      "17:59:53 - cmdstanpy - INFO - Chain [1] start processing\n",
      "17:59:54 - cmdstanpy - INFO - Chain [1] done processing\n",
      "17:59:54 - cmdstanpy - INFO - Chain [1] start processing\n",
      "17:59:55 - cmdstanpy - INFO - Chain [1] done processing\n",
      "17:59:56 - cmdstanpy - INFO - Chain [1] start processing\n",
      "17:59:56 - cmdstanpy - INFO - Chain [1] done processing\n",
      "17:59:57 - cmdstanpy - INFO - Chain [1] start processing\n",
      "17:59:58 - cmdstanpy - INFO - Chain [1] done processing\n",
      "17:59:58 - cmdstanpy - INFO - Chain [1] start processing\n",
      "17:59:59 - cmdstanpy - INFO - Chain [1] done processing\n",
      "18:00:00 - cmdstanpy - INFO - Chain [1] start processing\n",
      "18:00:01 - cmdstanpy - INFO - Chain [1] done processing\n",
      "18:00:01 - cmdstanpy - INFO - Chain [1] start processing\n",
      "18:00:02 - cmdstanpy - INFO - Chain [1] done processing\n",
      "18:00:03 - cmdstanpy - INFO - Chain [1] start processing\n",
      "18:00:04 - cmdstanpy - INFO - Chain [1] done processing\n",
      "18:00:05 - cmdstanpy - INFO - Chain [1] start processing\n",
      "18:00:05 - cmdstanpy - INFO - Chain [1] done processing\n",
      "18:00:05 - cmdstanpy - INFO - Chain [1] start processing\n",
      "18:00:05 - cmdstanpy - INFO - Chain [1] done processing\n",
      "18:00:06 - cmdstanpy - INFO - Chain [1] start processing\n",
      "18:00:06 - cmdstanpy - INFO - Chain [1] done processing\n",
      "18:00:07 - cmdstanpy - INFO - Chain [1] start processing\n",
      "18:00:07 - cmdstanpy - INFO - Chain [1] done processing\n",
      "18:00:07 - cmdstanpy - INFO - Chain [1] start processing\n",
      "18:00:07 - cmdstanpy - INFO - Chain [1] done processing\n",
      "18:00:08 - cmdstanpy - INFO - Chain [1] start processing\n",
      "18:00:08 - cmdstanpy - INFO - Chain [1] done processing\n",
      "18:00:09 - cmdstanpy - INFO - Chain [1] start processing\n",
      "18:00:09 - cmdstanpy - INFO - Chain [1] done processing\n",
      "18:00:09 - cmdstanpy - INFO - Chain [1] start processing\n",
      "18:00:09 - cmdstanpy - INFO - Chain [1] done processing\n",
      "18:00:10 - cmdstanpy - INFO - Chain [1] start processing\n",
      "18:00:10 - cmdstanpy - INFO - Chain [1] done processing\n",
      "18:00:11 - cmdstanpy - INFO - Chain [1] start processing\n",
      "18:00:11 - cmdstanpy - INFO - Chain [1] done processing\n"
     ]
    }
   ],
   "source": [
    "from prophet.diagnostics import cross_validation\n",
    "df_cv=cross_validation(model,horizon=\"365 days\",period='180 days',initial='1095 days')"
   ]
  },
  {
   "cell_type": "code",
   "execution_count": 87,
   "id": "d5e9f452-05c1-4d86-b904-2da296955899",
   "metadata": {},
   "outputs": [
    {
     "data": {
      "text/html": [
       "<div>\n",
       "<style scoped>\n",
       "    .dataframe tbody tr th:only-of-type {\n",
       "        vertical-align: middle;\n",
       "    }\n",
       "\n",
       "    .dataframe tbody tr th {\n",
       "        vertical-align: top;\n",
       "    }\n",
       "\n",
       "    .dataframe thead th {\n",
       "        text-align: right;\n",
       "    }\n",
       "</style>\n",
       "<table border=\"1\" class=\"dataframe\">\n",
       "  <thead>\n",
       "    <tr style=\"text-align: right;\">\n",
       "      <th></th>\n",
       "      <th>ds</th>\n",
       "      <th>y</th>\n",
       "    </tr>\n",
       "  </thead>\n",
       "  <tbody>\n",
       "    <tr>\n",
       "      <th>0</th>\n",
       "      <td>1962-01-01</td>\n",
       "      <td>589.0</td>\n",
       "    </tr>\n",
       "    <tr>\n",
       "      <th>1</th>\n",
       "      <td>1962-02-01</td>\n",
       "      <td>561.0</td>\n",
       "    </tr>\n",
       "    <tr>\n",
       "      <th>2</th>\n",
       "      <td>1962-03-01</td>\n",
       "      <td>640.0</td>\n",
       "    </tr>\n",
       "    <tr>\n",
       "      <th>3</th>\n",
       "      <td>1962-04-01</td>\n",
       "      <td>656.0</td>\n",
       "    </tr>\n",
       "    <tr>\n",
       "      <th>4</th>\n",
       "      <td>1962-05-01</td>\n",
       "      <td>727.0</td>\n",
       "    </tr>\n",
       "  </tbody>\n",
       "</table>\n",
       "</div>"
      ],
      "text/plain": [
       "          ds      y\n",
       "0 1962-01-01  589.0\n",
       "1 1962-02-01  561.0\n",
       "2 1962-03-01  640.0\n",
       "3 1962-04-01  656.0\n",
       "4 1962-05-01  727.0"
      ]
     },
     "execution_count": 87,
     "metadata": {},
     "output_type": "execute_result"
    }
   ],
   "source": [
    "df.head()"
   ]
  },
  {
   "cell_type": "code",
   "execution_count": 88,
   "id": "b6a137dc-a57d-45dc-9f0c-55b8f29bf15f",
   "metadata": {},
   "outputs": [
    {
     "data": {
      "text/html": [
       "<div>\n",
       "<style scoped>\n",
       "    .dataframe tbody tr th:only-of-type {\n",
       "        vertical-align: middle;\n",
       "    }\n",
       "\n",
       "    .dataframe tbody tr th {\n",
       "        vertical-align: top;\n",
       "    }\n",
       "\n",
       "    .dataframe thead th {\n",
       "        text-align: right;\n",
       "    }\n",
       "</style>\n",
       "<table border=\"1\" class=\"dataframe\">\n",
       "  <thead>\n",
       "    <tr style=\"text-align: right;\">\n",
       "      <th></th>\n",
       "      <th>ds</th>\n",
       "      <th>yhat</th>\n",
       "      <th>yhat_lower</th>\n",
       "      <th>yhat_upper</th>\n",
       "      <th>y</th>\n",
       "      <th>cutoff</th>\n",
       "    </tr>\n",
       "  </thead>\n",
       "  <tbody>\n",
       "    <tr>\n",
       "      <th>0</th>\n",
       "      <td>1965-02-01</td>\n",
       "      <td>624.491546</td>\n",
       "      <td>621.998103</td>\n",
       "      <td>627.302011</td>\n",
       "      <td>622.0</td>\n",
       "      <td>1965-01-22</td>\n",
       "    </tr>\n",
       "    <tr>\n",
       "      <th>1</th>\n",
       "      <td>1965-03-01</td>\n",
       "      <td>697.230329</td>\n",
       "      <td>688.933885</td>\n",
       "      <td>705.722363</td>\n",
       "      <td>709.0</td>\n",
       "      <td>1965-01-22</td>\n",
       "    </tr>\n",
       "    <tr>\n",
       "      <th>2</th>\n",
       "      <td>1965-04-01</td>\n",
       "      <td>716.197443</td>\n",
       "      <td>700.138622</td>\n",
       "      <td>732.295908</td>\n",
       "      <td>722.0</td>\n",
       "      <td>1965-01-22</td>\n",
       "    </tr>\n",
       "    <tr>\n",
       "      <th>3</th>\n",
       "      <td>1965-05-01</td>\n",
       "      <td>789.442602</td>\n",
       "      <td>763.369663</td>\n",
       "      <td>815.452253</td>\n",
       "      <td>782.0</td>\n",
       "      <td>1965-01-22</td>\n",
       "    </tr>\n",
       "    <tr>\n",
       "      <th>4</th>\n",
       "      <td>1965-06-01</td>\n",
       "      <td>756.942512</td>\n",
       "      <td>720.906524</td>\n",
       "      <td>793.490662</td>\n",
       "      <td>756.0</td>\n",
       "      <td>1965-01-22</td>\n",
       "    </tr>\n",
       "  </tbody>\n",
       "</table>\n",
       "</div>"
      ],
      "text/plain": [
       "          ds        yhat  yhat_lower  yhat_upper      y     cutoff\n",
       "0 1965-02-01  624.491546  621.998103  627.302011  622.0 1965-01-22\n",
       "1 1965-03-01  697.230329  688.933885  705.722363  709.0 1965-01-22\n",
       "2 1965-04-01  716.197443  700.138622  732.295908  722.0 1965-01-22\n",
       "3 1965-05-01  789.442602  763.369663  815.452253  782.0 1965-01-22\n",
       "4 1965-06-01  756.942512  720.906524  793.490662  756.0 1965-01-22"
      ]
     },
     "execution_count": 88,
     "metadata": {},
     "output_type": "execute_result"
    }
   ],
   "source": [
    "df_cv.head()"
   ]
  },
  {
   "cell_type": "markdown",
   "id": "c0a03b3f-b5cf-48eb-8b46-75ee2fc94d4d",
   "metadata": {},
   "source": [
    "Obtaining the Performance Metrics\n",
    "We use the performance_metrics utility to compute the Mean Squared Error(MSE), Root Mean Squared Error(RMSE),Mean Absolute Error(MAE), Mean Absolute Percentage Error(MAPE) and the coverage of the the yhat_lower and yhat_upper estimates.\n"
   ]
  },
  {
   "cell_type": "code",
   "execution_count": 90,
   "id": "e827d7e4-6df3-4490-a297-4e45531283c5",
   "metadata": {},
   "outputs": [
    {
     "data": {
      "text/html": [
       "<div>\n",
       "<style scoped>\n",
       "    .dataframe tbody tr th:only-of-type {\n",
       "        vertical-align: middle;\n",
       "    }\n",
       "\n",
       "    .dataframe tbody tr th {\n",
       "        vertical-align: top;\n",
       "    }\n",
       "\n",
       "    .dataframe thead th {\n",
       "        text-align: right;\n",
       "    }\n",
       "</style>\n",
       "<table border=\"1\" class=\"dataframe\">\n",
       "  <thead>\n",
       "    <tr style=\"text-align: right;\">\n",
       "      <th></th>\n",
       "      <th>horizon</th>\n",
       "      <th>mse</th>\n",
       "      <th>rmse</th>\n",
       "      <th>mae</th>\n",
       "      <th>mape</th>\n",
       "      <th>mdape</th>\n",
       "      <th>smape</th>\n",
       "      <th>coverage</th>\n",
       "    </tr>\n",
       "  </thead>\n",
       "  <tbody>\n",
       "    <tr>\n",
       "      <th>0</th>\n",
       "      <td>38 days</td>\n",
       "      <td>257.914063</td>\n",
       "      <td>16.059703</td>\n",
       "      <td>12.576294</td>\n",
       "      <td>0.016141</td>\n",
       "      <td>0.014527</td>\n",
       "      <td>0.016133</td>\n",
       "      <td>0.36</td>\n",
       "    </tr>\n",
       "    <tr>\n",
       "      <th>1</th>\n",
       "      <td>41 days</td>\n",
       "      <td>255.845121</td>\n",
       "      <td>15.995159</td>\n",
       "      <td>12.492324</td>\n",
       "      <td>0.016070</td>\n",
       "      <td>0.014527</td>\n",
       "      <td>0.016061</td>\n",
       "      <td>0.36</td>\n",
       "    </tr>\n",
       "    <tr>\n",
       "      <th>2</th>\n",
       "      <td>42 days</td>\n",
       "      <td>271.327292</td>\n",
       "      <td>16.472015</td>\n",
       "      <td>12.968456</td>\n",
       "      <td>0.016729</td>\n",
       "      <td>0.014907</td>\n",
       "      <td>0.016730</td>\n",
       "      <td>0.36</td>\n",
       "    </tr>\n",
       "    <tr>\n",
       "      <th>3</th>\n",
       "      <td>43 days</td>\n",
       "      <td>273.281641</td>\n",
       "      <td>16.531232</td>\n",
       "      <td>13.210193</td>\n",
       "      <td>0.017113</td>\n",
       "      <td>0.014907</td>\n",
       "      <td>0.017118</td>\n",
       "      <td>0.34</td>\n",
       "    </tr>\n",
       "    <tr>\n",
       "      <th>4</th>\n",
       "      <td>46 days</td>\n",
       "      <td>259.785384</td>\n",
       "      <td>16.117859</td>\n",
       "      <td>12.964769</td>\n",
       "      <td>0.016792</td>\n",
       "      <td>0.014907</td>\n",
       "      <td>0.016781</td>\n",
       "      <td>0.32</td>\n",
       "    </tr>\n",
       "  </tbody>\n",
       "</table>\n",
       "</div>"
      ],
      "text/plain": [
       "  horizon         mse       rmse        mae      mape     mdape     smape  \\\n",
       "0 38 days  257.914063  16.059703  12.576294  0.016141  0.014527  0.016133   \n",
       "1 41 days  255.845121  15.995159  12.492324  0.016070  0.014527  0.016061   \n",
       "2 42 days  271.327292  16.472015  12.968456  0.016729  0.014907  0.016730   \n",
       "3 43 days  273.281641  16.531232  13.210193  0.017113  0.014907  0.017118   \n",
       "4 46 days  259.785384  16.117859  12.964769  0.016792  0.014907  0.016781   \n",
       "\n",
       "   coverage  \n",
       "0      0.36  \n",
       "1      0.36  \n",
       "2      0.36  \n",
       "3      0.34  \n",
       "4      0.32  "
      ]
     },
     "execution_count": 90,
     "metadata": {},
     "output_type": "execute_result"
    }
   ],
   "source": [
    "from prophet.diagnostics import performance_metrics\n",
    "df_performance=performance_metrics(df_cv)\n",
    "df_performance.head()"
   ]
  },
  {
   "cell_type": "code",
   "execution_count": 91,
   "id": "9782f0a6-6705-427b-8b15-d9c007eadb90",
   "metadata": {},
   "outputs": [
    {
     "name": "stderr",
     "output_type": "stream",
     "text": [
      "C:\\Users\\mahav\\AppData\\Roaming\\Python\\Python312\\site-packages\\prophet\\plot.py:546: FutureWarning: Series.view is deprecated and will be removed in a future version. Use ``astype`` as an alternative to change the dtype.\n",
      "  x_plt = df_none['horizon'].astype('timedelta64[ns]').view(np.int64) / float(dt_conversions[i])\n",
      "C:\\Users\\mahav\\AppData\\Roaming\\Python\\Python312\\site-packages\\prophet\\plot.py:547: FutureWarning: Series.view is deprecated and will be removed in a future version. Use ``astype`` as an alternative to change the dtype.\n",
      "  x_plt_h = df_h['horizon'].astype('timedelta64[ns]').view(np.int64) / float(dt_conversions[i])\n"
     ]
    }
   ],
   "source": [
    "from prophet.plot import plot_cross_validation_metric\n",
    "fig=plot_cross_validation_metric(df_cv,metric='rmse')"
   ]
  },
  {
   "cell_type": "code",
   "execution_count": null,
   "id": "e3a29910-aa58-45c6-b5d3-c566f0d4e22b",
   "metadata": {},
   "outputs": [],
   "source": []
  }
 ],
 "metadata": {
  "kernelspec": {
   "display_name": "Python 3 (ipykernel)",
   "language": "python",
   "name": "python3"
  },
  "language_info": {
   "codemirror_mode": {
    "name": "ipython",
    "version": 3
   },
   "file_extension": ".py",
   "mimetype": "text/x-python",
   "name": "python",
   "nbconvert_exporter": "python",
   "pygments_lexer": "ipython3",
   "version": "3.12.7"
  }
 },
 "nbformat": 4,
 "nbformat_minor": 5
}
